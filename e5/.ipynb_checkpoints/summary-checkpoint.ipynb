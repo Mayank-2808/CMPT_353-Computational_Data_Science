{
 "cells": [
  {
   "cell_type": "code",
   "execution_count": 1,
   "id": "e1a0bfb8-e3eb-4f3f-89f4-e267da14079f",
   "metadata": {
    "tags": []
   },
   "outputs": [],
   "source": [
    "import pandas as pd\n",
    "import numpy as np\n",
    "from scipy.stats import pearsonr"
   ]
  },
  {
   "cell_type": "code",
   "execution_count": 2,
   "id": "f7df58d6-fac0-4612-bd10-e272d369bd9b",
   "metadata": {
    "tags": []
   },
   "outputs": [],
   "source": [
    "filenames = ['data-1.csv', 'data-2.csv', 'data-3.csv', 'data-4.csv', 'data-5.csv', 'data-6.csv']"
   ]
  },
  {
   "cell_type": "code",
   "execution_count": 3,
   "id": "47e8d214-518a-4789-935a-329cd41791bd",
   "metadata": {
    "tags": []
   },
   "outputs": [],
   "source": [
    "with open('summary.txt', 'w') as summary_file:\n",
    "    \n",
    "    for filename in filenames:\n",
    "\n",
    "        data = pd.read_csv(filename)\n",
    "        \n",
    "        x_mean = np.mean(data['x'])\n",
    "        x_std = np.std(data['x'])\n",
    "        x_min = np.min(data['x'])\n",
    "        x_max = np.max(data['x'])\n",
    "        \n",
    "        y_mean = np.mean(data['y'])\n",
    "        y_std = np.std(data['y'])\n",
    "        y_min = np.min(data['y'])\n",
    "        y_max = np.max(data['y'])\n",
    "        \n",
    "        correlation_coefficient, _ = pearsonr(data['x'], data['y'])\n",
    "        \n",
    "        summary_file.write(f\"Summary of {filename}:\\n\")\n",
    "        summary_file.write(\"\\n\")\n",
    "        summary_file.write(f\"X_Mean = {x_mean}, X Std_dev = {x_std}, X_Min = {x_min}, X_Max = {x_max}\\n\")\n",
    "        summary_file.write(\"\\n\")\n",
    "        summary_file.write(f\"Y_Mean = {y_mean}, Y Std_dev = {y_std}, Y_Min = {y_min}, Y_Max = {y_max}\\n\")\n",
    "        summary_file.write(\"\\n\")\n",
    "        summary_file.write(f\"Correlation Coefficient (r) = {correlation_coefficient}\\n\")\n",
    "        summary_file.write(\"\\n\")\n",
    "        summary_file.write(f\"Description: {filename} contains (x, y) data points for which, the values of X are in a range of ({x_min}, {x_max}), whereas Y ranges from ({y_min}, {y_max}). Moreover, the standard deviation for the X and Y data points is {x_std} and {y_std} respectively.\\n\")\n",
    "        summary_file.write(\"\\n\")\n",
    "        summary_file.write(\"\\n\")"
   ]
  }
 ],
 "metadata": {
  "kernelspec": {
   "display_name": "Python 3 (ipykernel)",
   "language": "python",
   "name": "python3"
  },
  "language_info": {
   "codemirror_mode": {
    "name": "ipython",
    "version": 3
   },
   "file_extension": ".py",
   "mimetype": "text/x-python",
   "name": "python",
   "nbconvert_exporter": "python",
   "pygments_lexer": "ipython3",
   "version": "3.11.4"
  }
 },
 "nbformat": 4,
 "nbformat_minor": 5
}
